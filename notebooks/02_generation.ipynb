{
 "cells": [
  {
   "cell_type": "code",
   "execution_count": 1,
   "metadata": {},
   "outputs": [],
   "source": [
    "import boto3\n",
    "import json"
   ]
  },
  {
   "cell_type": "code",
   "execution_count": 2,
   "metadata": {},
   "outputs": [],
   "source": [
    "ELASTIC_SEARCH_URL = \"http://elasticsearch:9200\"\n",
    "SEARCH_FILTER_TERM = \"data-engineering-zoomcamp\"\n",
    "INDEX_NAME = \"course-questions\""
   ]
  },
  {
   "cell_type": "code",
   "execution_count": 3,
   "metadata": {},
   "outputs": [],
   "source": [
    "from generation_service import GenerationService\n",
    "from retrieval_service import RetrievalService\n",
    "from elasticsearch import Elasticsearch\n",
    "\n",
    "retrieval_service = RetrievalService()\n",
    "es = Elasticsearch(ELASTIC_SEARCH_URL)\n",
    "generation_service = GenerationService()\n",
    "\n",
    "session = boto3.Session(profile_name=\"private\")\n",
    "bedrock_runtime = session.client(\"bedrock-runtime\", region_name=\"eu-central-1\")"
   ]
  },
  {
   "cell_type": "code",
   "execution_count": 10,
   "metadata": {},
   "outputs": [
    {
     "name": "stdout",
     "output_type": "stream",
     "text": [
      "\n",
      "The answer is: All the main videos are stored in the Main “DATA ENGINEERING” playlist (no year specified). The Github repository has also been updated to show each video with a thumbnail, that would bring you directly to the same playlist below.\n",
      "Below is the MAIN PLAYLIST’. And then you refer to the year specific playlist for additional videos for that year like for office hours videos etc. Also find this playlist pinned to the slack channel.\n",
      "h\n",
      "{URL}104.23512\n"
     ]
    }
   ],
   "source": [
    "user_question = \"Which playlist on YouTube should I refer to?\"\n",
    "\n",
    "retrieval_result = retrieval_service.get_retrival_result(user_question, SEARCH_FILTER_TERM, INDEX_NAME, es)\n",
    "context = generation_service.create_context(retrieval_result)\n",
    "prompt = generation_service.create_prompt(user_question, context)\n",
    "answer = generation_service.get_answer(prompt, bedrock_runtime)\n",
    "\n",
    "print(answer)"
   ]
  },
  {
   "cell_type": "code",
   "execution_count": 11,
   "metadata": {},
   "outputs": [
    {
     "name": "stdout",
     "output_type": "stream",
     "text": [
      "\n",
      "Yes, the slack channel remains open and you can ask questions there. But always sDocker containers exit code w search the channel first and second, check the FAQ (this document), most likely all your questions are already answered here.\n",
      "You can also tag the bot @ZoomcampQABot to help you conduct the search, but don’t rely on its answers 100%, it is pretty good though.\n"
     ]
    }
   ],
   "source": [
    "user_question = \"Can I get support if I take the course in the self-paced mode?\"\n",
    "\n",
    "retrieval_result = retrieval_service.get_retrival_result(user_question, SEARCH_FILTER_TERM, INDEX_NAME, es)\n",
    "context = generation_service.create_context(retrieval_result)\n",
    "prompt = generation_service.create_prompt(user_question, context)\n",
    "answer = generation_service.get_answer(prompt, bedrock_runtime)\n",
    "\n",
    "print(answer)"
   ]
  },
  {
   "cell_type": "code",
   "execution_count": 12,
   "metadata": {},
   "outputs": [
    {
     "name": "stdout",
     "output_type": "stream",
     "text": [
      "\n",
      "In the project directory, run:\n",
      "java -cp build/libs/<jar_name>-1.0-SNAPSHOT.jar:out src/main/java/org/example/JsonProducer.java\n"
     ]
    }
   ],
   "source": [
    "user_question = \"How can I run kafka?\"\n",
    "\n",
    "retrieval_result = retrieval_service.get_retrival_result(user_question, SEARCH_FILTER_TERM, INDEX_NAME, es)\n",
    "context = generation_service.create_context(retrieval_result)\n",
    "prompt = generation_service.create_prompt(user_question, context)\n",
    "answer = generation_service.get_answer(prompt, bedrock_runtime)\n",
    "\n",
    "print(answer)"
   ]
  }
 ],
 "metadata": {
  "kernelspec": {
   "display_name": "Python 3 (ipykernel)",
   "language": "python",
   "name": "python3"
  },
  "language_info": {
   "codemirror_mode": {
    "name": "ipython",
    "version": 3
   },
   "file_extension": ".py",
   "mimetype": "text/x-python",
   "name": "python",
   "nbconvert_exporter": "python",
   "pygments_lexer": "ipython3",
   "version": "3.11.9"
  }
 },
 "nbformat": 4,
 "nbformat_minor": 2
}
