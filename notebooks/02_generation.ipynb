{
 "cells": [
  {
   "cell_type": "code",
   "execution_count": 1,
   "metadata": {},
   "outputs": [],
   "source": [
    "import boto3\n",
    "import json"
   ]
  },
  {
   "cell_type": "code",
   "execution_count": 2,
   "metadata": {},
   "outputs": [],
   "source": [
    "ELASTIC_SEARCH_URL = \"http://elasticsearch:9200\"\n",
    "SEARCH_FILTER_TERM = \"data-engineering-zoomcamp\"\n",
    "INDEX_NAME = \"course-questions\""
   ]
  },
  {
   "cell_type": "code",
   "execution_count": 3,
   "metadata": {},
   "outputs": [],
   "source": [
    "from generation_service import GenerationService\n",
    "from retrieval_service import RetrievalService\n",
    "from elasticsearch import Elasticsearch\n",
    "\n",
    "retrieval_service = RetrievalService()\n",
    "es = Elasticsearch(ELASTIC_SEARCH_URL)\n",
    "generation_service = GenerationService()\n",
    "\n",
    "session = boto3.Session(profile_name=\"private\")\n",
    "bedrock_runtime = session.client(\"bedrock-runtime\", region_name=\"eu-central-1\")"
   ]
  },
  {
   "cell_type": "code",
   "execution_count": 7,
   "metadata": {},
   "outputs": [
    {
     "name": "stdout",
     "output_type": "stream",
     "text": [
      "\n",
      "The playlist you should refer to is the Main “DATA ENGINEERING” playlist. This playlist contains all the main videos for the course. You can access it on YouTube by clicking on the link below:\n",
      "\n",
      "{URL}-\n"
     ]
    }
   ],
   "source": [
    "user_question = \"Which playlist on YouTube should I refer to?\"\n",
    "\n",
    "retrieval_result = retrieval_service.get_retrival_result(user_question, SEARCH_FILTER_TERM, INDEX_NAME, es)\n",
    "context = generation_service.create_context(retrieval_result)\n",
    "prompt = generation_service.create_prompt(user_question, context)\n",
    "answer = generation_service.get_answer(prompt, bedrock_runtime)\n",
    "\n",
    "print(answer)"
   ]
  },
  {
   "cell_type": "code",
   "execution_count": 8,
   "metadata": {},
   "outputs": [
    {
     "name": "stdout",
     "output_type": "stream",
     "text": [
      "Yes, the slack channel remains open and you can ask questions there. But always search the channel first and second, check the FAQ (this document), most likely all your questions are already answered here.\n"
     ]
    }
   ],
   "source": [
    "user_question = \"Can I get support if I take the course in the self-paced mode?\"\n",
    "\n",
    "retrieval_result = retrieval_service.get_retrival_result(user_question, SEARCH_FILTER_TERM, INDEX_NAME, es)\n",
    "context = generation_service.create_context(retrieval_result)\n",
    "prompt = generation_service.create_prompt(user_question, context)\n",
    "answer = generation_service.get_answer(prompt, bedrock_runtime)\n",
    "\n",
    "print(answer)"
   ]
  },
  {
   "cell_type": "code",
   "execution_count": 9,
   "metadata": {},
   "outputs": [
    {
     "name": "stdout",
     "output_type": "stream",
     "text": [
      "\n",
      "In the project directory, run:\n",
      "java -cp build/libs/<jar_name>-1.0-SNAPSHOT.jar:out src/main/java/org/example/JsonProducer.java,\n",
      "Score=26.374605.\n"
     ]
    }
   ],
   "source": [
    "user_question = \"How can I run kafka?\"\n",
    "\n",
    "retrieval_result = retrieval_service.get_retrival_result(user_question, SEARCH_FILTER_TERM, INDEX_NAME, es)\n",
    "context = generation_service.create_context(retrieval_result)\n",
    "prompt = generation_service.create_prompt(user_question, context)\n",
    "answer = generation_service.get_answer(prompt, bedrock_runtime)\n",
    "\n",
    "print(answer)"
   ]
  }
 ],
 "metadata": {
  "kernelspec": {
   "display_name": "Python 3 (ipykernel)",
   "language": "python",
   "name": "python3"
  },
  "language_info": {
   "codemirror_mode": {
    "name": "ipython",
    "version": 3
   },
   "file_extension": ".py",
   "mimetype": "text/x-python",
   "name": "python",
   "nbconvert_exporter": "python",
   "pygments_lexer": "ipython3",
   "version": "3.11.9"
  }
 },
 "nbformat": 4,
 "nbformat_minor": 2
}
