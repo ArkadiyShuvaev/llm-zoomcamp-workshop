{
 "cells": [
  {
   "cell_type": "code",
   "execution_count": 23,
   "metadata": {},
   "outputs": [],
   "source": [
    "import boto3\n",
    "import json"
   ]
  },
  {
   "cell_type": "code",
   "execution_count": 3,
   "metadata": {},
   "outputs": [],
   "source": [
    "session = boto3.Session(profile_name=\"default\")\n",
    "bedrock_runtime = session.client(\"bedrock-runtime\", region_name=\"eu-central-1\")"
   ]
  },
  {
   "cell_type": "code",
   "execution_count": 4,
   "metadata": {},
   "outputs": [],
   "source": [
    "prompt = \"Please explain how Retrieval Augmented Generation works\""
   ]
  },
  {
   "cell_type": "code",
   "execution_count": 9,
   "metadata": {},
   "outputs": [],
   "source": [
    "kwargs = {\n",
    "    \"modelId\": \"amazon.titan-text-express-v1\",\n",
    "    \"contentType\": \"application/json\",\n",
    "    \"accept\": \"*/*\",\n",
    "    \"body\": json.dumps({\n",
    "        \"inputText\": prompt\n",
    "    })\n",
    "}"
   ]
  },
  {
   "cell_type": "code",
   "execution_count": 16,
   "metadata": {},
   "outputs": [],
   "source": [
    "response = bedrock_runtime.invoke_model(**kwargs)"
   ]
  },
  {
   "cell_type": "code",
   "execution_count": 17,
   "metadata": {},
   "outputs": [
    {
     "data": {
      "text/plain": [
       "{'ResponseMetadata': {'RequestId': '08943198-1cd0-48a6-b832-7c7120adb27e',\n",
       "  'HTTPStatusCode': 200,\n",
       "  'HTTPHeaders': {'date': 'Mon, 10 Jun 2024 06:05:24 GMT',\n",
       "   'content-type': 'application/json',\n",
       "   'content-length': '809',\n",
       "   'connection': 'keep-alive',\n",
       "   'x-amzn-requestid': '08943198-1cd0-48a6-b832-7c7120adb27e',\n",
       "   'x-amzn-bedrock-invocation-latency': '11296',\n",
       "   'x-amzn-bedrock-output-token-count': '128',\n",
       "   'x-amzn-bedrock-input-token-count': '9'},\n",
       "  'RetryAttempts': 0},\n",
       " 'contentType': 'application/json',\n",
       " 'body': <botocore.response.StreamingBody at 0x7f3a76134d00>}"
      ]
     },
     "execution_count": 17,
     "metadata": {},
     "output_type": "execute_result"
    }
   ],
   "source": [
    "response"
   ]
  },
  {
   "cell_type": "code",
   "execution_count": 18,
   "metadata": {},
   "outputs": [
    {
     "data": {
      "text/plain": [
       "b'{\"inputTextTokenCount\":9,\"results\":[{\"tokenCount\":128,\"outputText\":\"\\\\nRetrieval-Augmented Generation (RAG) is a model that combines two different approaches: retrieval and generation. Retrieval involves searching a large dataset to find relevant information that can be used to generate new content. Generation involves creating new content from the retrieved information.\\\\n\\\\nRAG models typically have two components: a retrieval component and a generation component. The retrieval component uses a search engine or other information retrieval system to find relevant documents or data. The generation component uses the retrieved information to generate new content.\\\\n\\\\nThere are different types of RAG models, including seq2seq models, attention-based models, and transformer\",\"completionReason\":\"LENGTH\"}]}'"
      ]
     },
     "execution_count": 18,
     "metadata": {},
     "output_type": "execute_result"
    }
   ],
   "source": [
    "body_as_plain_text = response.get('body').read()\n",
    "body_as_plain_text"
   ]
  },
  {
   "cell_type": "code",
   "execution_count": 20,
   "metadata": {},
   "outputs": [
    {
     "data": {
      "text/plain": [
       "{'inputTextTokenCount': 9,\n",
       " 'results': [{'tokenCount': 128,\n",
       "   'outputText': '\\nRetrieval-Augmented Generation (RAG) is a model that combines two different approaches: retrieval and generation. Retrieval involves searching a large dataset to find relevant information that can be used to generate new content. Generation involves creating new content from the retrieved information.\\n\\nRAG models typically have two components: a retrieval component and a generation component. The retrieval component uses a search engine or other information retrieval system to find relevant documents or data. The generation component uses the retrieved information to generate new content.\\n\\nThere are different types of RAG models, including seq2seq models, attention-based models, and transformer',\n",
       "   'completionReason': 'LENGTH'}]}"
      ]
     },
     "execution_count": 20,
     "metadata": {},
     "output_type": "execute_result"
    }
   ],
   "source": [
    "response_body = json.loads(body_as_plain_text)\n",
    "response_body"
   ]
  },
  {
   "cell_type": "code",
   "execution_count": 25,
   "metadata": {},
   "outputs": [
    {
     "name": "stdout",
     "output_type": "stream",
     "text": [
      "\n",
      "Retrieval-Augmented Generation (RAG) is a model that combines two different approaches: retrieval and generation. Retrieval involves searching a large dataset to find relevant information that can be used to generate new content. Generation involves creating new content from the retrieved information.\n",
      "\n",
      "RAG models typically have two components: a retrieval component and a generation component. The retrieval component uses a search engine or other information retrieval system to find relevant documents or data. The generation component uses the retrieved information to generate new content.\n",
      "\n",
      "There are different types of RAG models, including seq2seq models, attention-based models, and transformer\n"
     ]
    }
   ],
   "source": [
    "print(response_body[\"results\"][0][\"outputText\"])"
   ]
  }
 ],
 "metadata": {
  "kernelspec": {
   "display_name": "Python 3 (ipykernel)",
   "language": "python",
   "name": "python3"
  },
  "language_info": {
   "codemirror_mode": {
    "name": "ipython",
    "version": 3
   },
   "file_extension": ".py",
   "mimetype": "text/x-python",
   "name": "python",
   "nbconvert_exporter": "python",
   "pygments_lexer": "ipython3",
   "version": "3.11.9"
  }
 },
 "nbformat": 4,
 "nbformat_minor": 2
}
